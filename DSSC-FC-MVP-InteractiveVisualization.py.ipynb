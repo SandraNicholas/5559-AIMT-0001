{
 "cells": [
  {
   "cell_type": "markdown",
   "id": "119a93f2",
   "metadata": {},
   "source": [
    "# Interactive Visualization using plotly dash"
   ]
  },
  {
   "cell_type": "code",
   "execution_count": 2,
   "id": "8cd503a2",
   "metadata": {},
   "outputs": [
    {
     "name": "stdout",
     "output_type": "stream",
     "text": [
      "Collecting jupyter-dash\n",
      "  Downloading jupyter_dash-0.4.2-py3-none-any.whl (23 kB)\n",
      "Requirement already satisfied: ipykernel in c:\\users\\shirley\\anaconda3\\envs\\neuralnetwork\\lib\\site-packages (from jupyter-dash) (6.9.1)\n",
      "Collecting ansi2html\n",
      "  Downloading ansi2html-1.8.0-py3-none-any.whl (16 kB)\n",
      "Requirement already satisfied: requests in c:\\users\\shirley\\anaconda3\\envs\\neuralnetwork\\lib\\site-packages (from jupyter-dash) (2.27.1)\n",
      "Requirement already satisfied: ipython in c:\\users\\shirley\\anaconda3\\envs\\neuralnetwork\\lib\\site-packages (from jupyter-dash) (8.1.1)\n",
      "Collecting dash\n",
      "  Using cached dash-2.10.2-py3-none-any.whl (10.3 MB)\n",
      "Requirement already satisfied: nest-asyncio in c:\\users\\shirley\\anaconda3\\envs\\neuralnetwork\\lib\\site-packages (from jupyter-dash) (1.5.1)\n",
      "Collecting retrying\n",
      "  Downloading retrying-1.3.4-py3-none-any.whl (11 kB)\n",
      "Collecting flask\n",
      "  Downloading Flask-2.3.2-py3-none-any.whl (96 kB)\n",
      "Requirement already satisfied: plotly>=5.0.0 in c:\\users\\shirley\\anaconda3\\envs\\neuralnetwork\\lib\\site-packages (from dash->jupyter-dash) (5.15.0)\n",
      "Collecting dash-html-components==2.0.0\n",
      "  Using cached dash_html_components-2.0.0-py3-none-any.whl (4.1 kB)\n",
      "Collecting dash-table==5.0.0\n",
      "  Using cached dash_table-5.0.0-py3-none-any.whl (3.9 kB)\n",
      "Collecting flask\n",
      "  Using cached Flask-2.2.5-py3-none-any.whl (101 kB)\n",
      "Requirement already satisfied: Werkzeug<2.3.0 in c:\\users\\shirley\\anaconda3\\envs\\neuralnetwork\\lib\\site-packages (from dash->jupyter-dash) (2.0.3)\n",
      "Collecting dash-core-components==2.0.0\n",
      "  Using cached dash_core_components-2.0.0-py3-none-any.whl (3.8 kB)\n",
      "Collecting Werkzeug<2.3.0\n",
      "  Using cached Werkzeug-2.2.3-py3-none-any.whl (233 kB)\n",
      "Requirement already satisfied: click>=8.0 in c:\\users\\shirley\\anaconda3\\envs\\neuralnetwork\\lib\\site-packages (from flask->jupyter-dash) (8.0.4)\n",
      "Collecting itsdangerous>=2.0\n",
      "  Using cached itsdangerous-2.1.2-py3-none-any.whl (15 kB)\n",
      "Requirement already satisfied: importlib-metadata>=3.6.0 in c:\\users\\shirley\\anaconda3\\envs\\neuralnetwork\\lib\\site-packages (from flask->jupyter-dash) (4.8.2)\n",
      "Requirement already satisfied: Jinja2>=3.0 in c:\\users\\shirley\\anaconda3\\envs\\neuralnetwork\\lib\\site-packages (from flask->jupyter-dash) (3.0.3)\n",
      "Requirement already satisfied: colorama in c:\\users\\shirley\\anaconda3\\envs\\neuralnetwork\\lib\\site-packages (from click>=8.0->flask->jupyter-dash) (0.4.4)\n",
      "Requirement already satisfied: zipp>=0.5 in c:\\users\\shirley\\anaconda3\\envs\\neuralnetwork\\lib\\site-packages (from importlib-metadata>=3.6.0->flask->jupyter-dash) (3.7.0)\n",
      "Requirement already satisfied: MarkupSafe>=2.0 in c:\\users\\shirley\\anaconda3\\envs\\neuralnetwork\\lib\\site-packages (from Jinja2>=3.0->flask->jupyter-dash) (2.1.3)\n",
      "Requirement already satisfied: packaging in c:\\users\\shirley\\anaconda3\\envs\\neuralnetwork\\lib\\site-packages (from plotly>=5.0.0->dash->jupyter-dash) (21.3)\n",
      "Requirement already satisfied: tenacity>=6.2.0 in c:\\users\\shirley\\anaconda3\\envs\\neuralnetwork\\lib\\site-packages (from plotly>=5.0.0->dash->jupyter-dash) (8.2.2)\n",
      "Requirement already satisfied: tornado<7.0,>=4.2 in c:\\users\\shirley\\anaconda3\\envs\\neuralnetwork\\lib\\site-packages (from ipykernel->jupyter-dash) (6.1)\n",
      "Requirement already satisfied: jupyter-client<8.0 in c:\\users\\shirley\\anaconda3\\envs\\neuralnetwork\\lib\\site-packages (from ipykernel->jupyter-dash) (7.1.2)\n",
      "Requirement already satisfied: traitlets<6.0,>=5.1.0 in c:\\users\\shirley\\anaconda3\\envs\\neuralnetwork\\lib\\site-packages (from ipykernel->jupyter-dash) (5.1.1)\n",
      "Requirement already satisfied: debugpy<2.0,>=1.0.0 in c:\\users\\shirley\\anaconda3\\envs\\neuralnetwork\\lib\\site-packages (from ipykernel->jupyter-dash) (1.5.1)\n",
      "Requirement already satisfied: matplotlib-inline<0.2.0,>=0.1.0 in c:\\users\\shirley\\anaconda3\\envs\\neuralnetwork\\lib\\site-packages (from ipykernel->jupyter-dash) (0.1.2)\n",
      "Requirement already satisfied: decorator in c:\\users\\shirley\\anaconda3\\envs\\neuralnetwork\\lib\\site-packages (from ipython->jupyter-dash) (5.1.1)\n",
      "Requirement already satisfied: pygments>=2.4.0 in c:\\users\\shirley\\anaconda3\\envs\\neuralnetwork\\lib\\site-packages (from ipython->jupyter-dash) (2.11.2)\n",
      "Requirement already satisfied: jedi>=0.16 in c:\\users\\shirley\\anaconda3\\envs\\neuralnetwork\\lib\\site-packages (from ipython->jupyter-dash) (0.18.1)\n",
      "Requirement already satisfied: setuptools>=18.5 in c:\\users\\shirley\\anaconda3\\envs\\neuralnetwork\\lib\\site-packages (from ipython->jupyter-dash) (58.0.4)\n",
      "Requirement already satisfied: stack-data in c:\\users\\shirley\\anaconda3\\envs\\neuralnetwork\\lib\\site-packages (from ipython->jupyter-dash) (0.2.0)\n",
      "Requirement already satisfied: prompt-toolkit!=3.0.0,!=3.0.1,<3.1.0,>=2.0.0 in c:\\users\\shirley\\anaconda3\\envs\\neuralnetwork\\lib\\site-packages (from ipython->jupyter-dash) (3.0.20)\n",
      "Requirement already satisfied: backcall in c:\\users\\shirley\\anaconda3\\envs\\neuralnetwork\\lib\\site-packages (from ipython->jupyter-dash) (0.2.0)\n",
      "Requirement already satisfied: pickleshare in c:\\users\\shirley\\anaconda3\\envs\\neuralnetwork\\lib\\site-packages (from ipython->jupyter-dash) (0.7.5)\n",
      "Requirement already satisfied: parso<0.9.0,>=0.8.0 in c:\\users\\shirley\\anaconda3\\envs\\neuralnetwork\\lib\\site-packages (from jedi>=0.16->ipython->jupyter-dash) (0.8.3)\n",
      "Requirement already satisfied: python-dateutil>=2.1 in c:\\users\\shirley\\anaconda3\\envs\\neuralnetwork\\lib\\site-packages (from jupyter-client<8.0->ipykernel->jupyter-dash) (2.8.2)\n",
      "Requirement already satisfied: entrypoints in c:\\users\\shirley\\anaconda3\\envs\\neuralnetwork\\lib\\site-packages (from jupyter-client<8.0->ipykernel->jupyter-dash) (0.3)\n",
      "Requirement already satisfied: jupyter-core>=4.6.0 in c:\\users\\shirley\\anaconda3\\envs\\neuralnetwork\\lib\\site-packages (from jupyter-client<8.0->ipykernel->jupyter-dash) (4.9.2)\n",
      "Requirement already satisfied: pyzmq>=13 in c:\\users\\shirley\\anaconda3\\envs\\neuralnetwork\\lib\\site-packages (from jupyter-client<8.0->ipykernel->jupyter-dash) (22.3.0)\n",
      "Requirement already satisfied: pywin32>=1.0 in c:\\users\\shirley\\anaconda3\\envs\\neuralnetwork\\lib\\site-packages (from jupyter-core>=4.6.0->jupyter-client<8.0->ipykernel->jupyter-dash) (302)\n",
      "Requirement already satisfied: wcwidth in c:\\users\\shirley\\anaconda3\\envs\\neuralnetwork\\lib\\site-packages (from prompt-toolkit!=3.0.0,!=3.0.1,<3.1.0,>=2.0.0->ipython->jupyter-dash) (0.2.5)\n",
      "Requirement already satisfied: six>=1.5 in c:\\users\\shirley\\anaconda3\\envs\\neuralnetwork\\lib\\site-packages (from python-dateutil>=2.1->jupyter-client<8.0->ipykernel->jupyter-dash) (1.16.0)\n",
      "Requirement already satisfied: pyparsing!=3.0.5,>=2.0.2 in c:\\users\\shirley\\anaconda3\\envs\\neuralnetwork\\lib\\site-packages (from packaging->plotly>=5.0.0->dash->jupyter-dash) (3.0.4)\n",
      "Requirement already satisfied: urllib3<1.27,>=1.21.1 in c:\\users\\shirley\\anaconda3\\envs\\neuralnetwork\\lib\\site-packages (from requests->jupyter-dash) (1.26.8)\n",
      "Requirement already satisfied: charset-normalizer~=2.0.0 in c:\\users\\shirley\\anaconda3\\envs\\neuralnetwork\\lib\\site-packages (from requests->jupyter-dash) (2.0.4)\n",
      "Requirement already satisfied: certifi>=2017.4.17 in c:\\users\\shirley\\anaconda3\\envs\\neuralnetwork\\lib\\site-packages (from requests->jupyter-dash) (2022.12.7)\n",
      "Requirement already satisfied: idna<4,>=2.5 in c:\\users\\shirley\\anaconda3\\envs\\neuralnetwork\\lib\\site-packages (from requests->jupyter-dash) (3.3)\n",
      "Requirement already satisfied: executing in c:\\users\\shirley\\anaconda3\\envs\\neuralnetwork\\lib\\site-packages (from stack-data->ipython->jupyter-dash) (0.8.3)\n",
      "Requirement already satisfied: asttokens in c:\\users\\shirley\\anaconda3\\envs\\neuralnetwork\\lib\\site-packages (from stack-data->ipython->jupyter-dash) (2.0.5)\n",
      "Requirement already satisfied: pure-eval in c:\\users\\shirley\\anaconda3\\envs\\neuralnetwork\\lib\\site-packages (from stack-data->ipython->jupyter-dash) (0.2.2)\n",
      "Installing collected packages: Werkzeug, itsdangerous, flask, dash-table, dash-html-components, dash-core-components, retrying, dash, ansi2html, jupyter-dash\n",
      "  Attempting uninstall: Werkzeug\n",
      "    Found existing installation: Werkzeug 2.0.3\n",
      "    Uninstalling Werkzeug-2.0.3:\n",
      "      Successfully uninstalled Werkzeug-2.0.3\n",
      "Successfully installed Werkzeug-2.2.3 ansi2html-1.8.0 dash-2.10.2 dash-core-components-2.0.0 dash-html-components-2.0.0 dash-table-5.0.0 flask-2.2.5 itsdangerous-2.1.2 jupyter-dash-0.4.2 retrying-1.3.4\n",
      "Note: you may need to restart the kernel to use updated packages.\n"
     ]
    },
    {
     "name": "stderr",
     "output_type": "stream",
     "text": [
      "ERROR: pip's dependency resolver does not currently take into account all the packages that are installed. This behaviour is the source of the following dependency conflicts.\n",
      "tensorboard 2.6.0 requires google-auth<2,>=1.6.3, but you have google-auth 2.16.2 which is incompatible.\n"
     ]
    }
   ],
   "source": [
    "pip install jupyter-dash"
   ]
  },
  {
   "cell_type": "code",
   "execution_count": null,
   "id": "ca32dc00",
   "metadata": {},
   "outputs": [],
   "source": []
  },
  {
   "cell_type": "code",
   "execution_count": 3,
   "id": "96607cab",
   "metadata": {},
   "outputs": [
    {
     "name": "stderr",
     "output_type": "stream",
     "text": [
      "C:\\Users\\Shirley\\AppData\\Local\\Temp\\ipykernel_16724\\467699099.py:5: UserWarning: \n",
      "The dash_core_components package is deprecated. Please replace\n",
      "`import dash_core_components as dcc` with `from dash import dcc`\n",
      "  import dash_core_components as dcc\n",
      "C:\\Users\\Shirley\\AppData\\Local\\Temp\\ipykernel_16724\\467699099.py:6: UserWarning: \n",
      "The dash_html_components package is deprecated. Please replace\n",
      "`import dash_html_components as html` with `from dash import html`\n",
      "  import dash_html_components as html\n"
     ]
    },
    {
     "ename": "FileNotFoundError",
     "evalue": "[Errno 2] No such file or directory: 'stockdata.csv'",
     "output_type": "error",
     "traceback": [
      "\u001b[1;31m---------------------------------------------------------------------------\u001b[0m",
      "\u001b[1;31mFileNotFoundError\u001b[0m                         Traceback (most recent call last)",
      "Input \u001b[1;32mIn [3]\u001b[0m, in \u001b[0;36m<cell line: 10>\u001b[1;34m()\u001b[0m\n\u001b[0;32m      7\u001b[0m \u001b[38;5;28;01mfrom\u001b[39;00m \u001b[38;5;21;01mdash\u001b[39;00m\u001b[38;5;21;01m.\u001b[39;00m\u001b[38;5;21;01mdependencies\u001b[39;00m \u001b[38;5;28;01mimport\u001b[39;00m Input, Output\n\u001b[0;32m      9\u001b[0m \u001b[38;5;66;03m# Load the data\u001b[39;00m\n\u001b[1;32m---> 10\u001b[0m df \u001b[38;5;241m=\u001b[39m \u001b[43mpd\u001b[49m\u001b[38;5;241;43m.\u001b[39;49m\u001b[43mread_csv\u001b[49m\u001b[43m(\u001b[49m\u001b[38;5;124;43m'\u001b[39;49m\u001b[38;5;124;43mstockdata.csv\u001b[39;49m\u001b[38;5;124;43m'\u001b[39;49m\u001b[43m)\u001b[49m\n\u001b[0;32m     12\u001b[0m \u001b[38;5;66;03m# Data Transformation\u001b[39;00m\n\u001b[0;32m     13\u001b[0m df[\u001b[38;5;124m'\u001b[39m\u001b[38;5;124mdatetime\u001b[39m\u001b[38;5;124m'\u001b[39m] \u001b[38;5;241m=\u001b[39m pd\u001b[38;5;241m.\u001b[39mto_datetime(df[\u001b[38;5;124m'\u001b[39m\u001b[38;5;124mDate\u001b[39m\u001b[38;5;124m'\u001b[39m])\n",
      "File \u001b[1;32m~\\anaconda3\\envs\\neuralnetwork\\lib\\site-packages\\pandas\\util\\_decorators.py:311\u001b[0m, in \u001b[0;36mdeprecate_nonkeyword_arguments.<locals>.decorate.<locals>.wrapper\u001b[1;34m(*args, **kwargs)\u001b[0m\n\u001b[0;32m    305\u001b[0m \u001b[38;5;28;01mif\u001b[39;00m \u001b[38;5;28mlen\u001b[39m(args) \u001b[38;5;241m>\u001b[39m num_allow_args:\n\u001b[0;32m    306\u001b[0m     warnings\u001b[38;5;241m.\u001b[39mwarn(\n\u001b[0;32m    307\u001b[0m         msg\u001b[38;5;241m.\u001b[39mformat(arguments\u001b[38;5;241m=\u001b[39marguments),\n\u001b[0;32m    308\u001b[0m         \u001b[38;5;167;01mFutureWarning\u001b[39;00m,\n\u001b[0;32m    309\u001b[0m         stacklevel\u001b[38;5;241m=\u001b[39mstacklevel,\n\u001b[0;32m    310\u001b[0m     )\n\u001b[1;32m--> 311\u001b[0m \u001b[38;5;28;01mreturn\u001b[39;00m func(\u001b[38;5;241m*\u001b[39margs, \u001b[38;5;241m*\u001b[39m\u001b[38;5;241m*\u001b[39mkwargs)\n",
      "File \u001b[1;32m~\\anaconda3\\envs\\neuralnetwork\\lib\\site-packages\\pandas\\io\\parsers\\readers.py:678\u001b[0m, in \u001b[0;36mread_csv\u001b[1;34m(filepath_or_buffer, sep, delimiter, header, names, index_col, usecols, squeeze, prefix, mangle_dupe_cols, dtype, engine, converters, true_values, false_values, skipinitialspace, skiprows, skipfooter, nrows, na_values, keep_default_na, na_filter, verbose, skip_blank_lines, parse_dates, infer_datetime_format, keep_date_col, date_parser, dayfirst, cache_dates, iterator, chunksize, compression, thousands, decimal, lineterminator, quotechar, quoting, doublequote, escapechar, comment, encoding, encoding_errors, dialect, error_bad_lines, warn_bad_lines, on_bad_lines, delim_whitespace, low_memory, memory_map, float_precision, storage_options)\u001b[0m\n\u001b[0;32m    663\u001b[0m kwds_defaults \u001b[38;5;241m=\u001b[39m _refine_defaults_read(\n\u001b[0;32m    664\u001b[0m     dialect,\n\u001b[0;32m    665\u001b[0m     delimiter,\n\u001b[1;32m   (...)\u001b[0m\n\u001b[0;32m    674\u001b[0m     defaults\u001b[38;5;241m=\u001b[39m{\u001b[38;5;124m\"\u001b[39m\u001b[38;5;124mdelimiter\u001b[39m\u001b[38;5;124m\"\u001b[39m: \u001b[38;5;124m\"\u001b[39m\u001b[38;5;124m,\u001b[39m\u001b[38;5;124m\"\u001b[39m},\n\u001b[0;32m    675\u001b[0m )\n\u001b[0;32m    676\u001b[0m kwds\u001b[38;5;241m.\u001b[39mupdate(kwds_defaults)\n\u001b[1;32m--> 678\u001b[0m \u001b[38;5;28;01mreturn\u001b[39;00m \u001b[43m_read\u001b[49m\u001b[43m(\u001b[49m\u001b[43mfilepath_or_buffer\u001b[49m\u001b[43m,\u001b[49m\u001b[43m \u001b[49m\u001b[43mkwds\u001b[49m\u001b[43m)\u001b[49m\n",
      "File \u001b[1;32m~\\anaconda3\\envs\\neuralnetwork\\lib\\site-packages\\pandas\\io\\parsers\\readers.py:575\u001b[0m, in \u001b[0;36m_read\u001b[1;34m(filepath_or_buffer, kwds)\u001b[0m\n\u001b[0;32m    572\u001b[0m _validate_names(kwds\u001b[38;5;241m.\u001b[39mget(\u001b[38;5;124m\"\u001b[39m\u001b[38;5;124mnames\u001b[39m\u001b[38;5;124m\"\u001b[39m, \u001b[38;5;28;01mNone\u001b[39;00m))\n\u001b[0;32m    574\u001b[0m \u001b[38;5;66;03m# Create the parser.\u001b[39;00m\n\u001b[1;32m--> 575\u001b[0m parser \u001b[38;5;241m=\u001b[39m TextFileReader(filepath_or_buffer, \u001b[38;5;241m*\u001b[39m\u001b[38;5;241m*\u001b[39mkwds)\n\u001b[0;32m    577\u001b[0m \u001b[38;5;28;01mif\u001b[39;00m chunksize \u001b[38;5;129;01mor\u001b[39;00m iterator:\n\u001b[0;32m    578\u001b[0m     \u001b[38;5;28;01mreturn\u001b[39;00m parser\n",
      "File \u001b[1;32m~\\anaconda3\\envs\\neuralnetwork\\lib\\site-packages\\pandas\\io\\parsers\\readers.py:932\u001b[0m, in \u001b[0;36mTextFileReader.__init__\u001b[1;34m(self, f, engine, **kwds)\u001b[0m\n\u001b[0;32m    929\u001b[0m     \u001b[38;5;28mself\u001b[39m\u001b[38;5;241m.\u001b[39moptions[\u001b[38;5;124m\"\u001b[39m\u001b[38;5;124mhas_index_names\u001b[39m\u001b[38;5;124m\"\u001b[39m] \u001b[38;5;241m=\u001b[39m kwds[\u001b[38;5;124m\"\u001b[39m\u001b[38;5;124mhas_index_names\u001b[39m\u001b[38;5;124m\"\u001b[39m]\n\u001b[0;32m    931\u001b[0m \u001b[38;5;28mself\u001b[39m\u001b[38;5;241m.\u001b[39mhandles: IOHandles \u001b[38;5;241m|\u001b[39m \u001b[38;5;28;01mNone\u001b[39;00m \u001b[38;5;241m=\u001b[39m \u001b[38;5;28;01mNone\u001b[39;00m\n\u001b[1;32m--> 932\u001b[0m \u001b[38;5;28mself\u001b[39m\u001b[38;5;241m.\u001b[39m_engine \u001b[38;5;241m=\u001b[39m \u001b[38;5;28;43mself\u001b[39;49m\u001b[38;5;241;43m.\u001b[39;49m\u001b[43m_make_engine\u001b[49m\u001b[43m(\u001b[49m\u001b[43mf\u001b[49m\u001b[43m,\u001b[49m\u001b[43m \u001b[49m\u001b[38;5;28;43mself\u001b[39;49m\u001b[38;5;241;43m.\u001b[39;49m\u001b[43mengine\u001b[49m\u001b[43m)\u001b[49m\n",
      "File \u001b[1;32m~\\anaconda3\\envs\\neuralnetwork\\lib\\site-packages\\pandas\\io\\parsers\\readers.py:1216\u001b[0m, in \u001b[0;36mTextFileReader._make_engine\u001b[1;34m(self, f, engine)\u001b[0m\n\u001b[0;32m   1212\u001b[0m     mode \u001b[38;5;241m=\u001b[39m \u001b[38;5;124m\"\u001b[39m\u001b[38;5;124mrb\u001b[39m\u001b[38;5;124m\"\u001b[39m\n\u001b[0;32m   1213\u001b[0m \u001b[38;5;66;03m# error: No overload variant of \"get_handle\" matches argument types\u001b[39;00m\n\u001b[0;32m   1214\u001b[0m \u001b[38;5;66;03m# \"Union[str, PathLike[str], ReadCsvBuffer[bytes], ReadCsvBuffer[str]]\"\u001b[39;00m\n\u001b[0;32m   1215\u001b[0m \u001b[38;5;66;03m# , \"str\", \"bool\", \"Any\", \"Any\", \"Any\", \"Any\", \"Any\"\u001b[39;00m\n\u001b[1;32m-> 1216\u001b[0m \u001b[38;5;28mself\u001b[39m\u001b[38;5;241m.\u001b[39mhandles \u001b[38;5;241m=\u001b[39m \u001b[43mget_handle\u001b[49m\u001b[43m(\u001b[49m\u001b[43m  \u001b[49m\u001b[38;5;66;43;03m# type: ignore[call-overload]\u001b[39;49;00m\n\u001b[0;32m   1217\u001b[0m \u001b[43m    \u001b[49m\u001b[43mf\u001b[49m\u001b[43m,\u001b[49m\n\u001b[0;32m   1218\u001b[0m \u001b[43m    \u001b[49m\u001b[43mmode\u001b[49m\u001b[43m,\u001b[49m\n\u001b[0;32m   1219\u001b[0m \u001b[43m    \u001b[49m\u001b[43mencoding\u001b[49m\u001b[38;5;241;43m=\u001b[39;49m\u001b[38;5;28;43mself\u001b[39;49m\u001b[38;5;241;43m.\u001b[39;49m\u001b[43moptions\u001b[49m\u001b[38;5;241;43m.\u001b[39;49m\u001b[43mget\u001b[49m\u001b[43m(\u001b[49m\u001b[38;5;124;43m\"\u001b[39;49m\u001b[38;5;124;43mencoding\u001b[39;49m\u001b[38;5;124;43m\"\u001b[39;49m\u001b[43m,\u001b[49m\u001b[43m \u001b[49m\u001b[38;5;28;43;01mNone\u001b[39;49;00m\u001b[43m)\u001b[49m\u001b[43m,\u001b[49m\n\u001b[0;32m   1220\u001b[0m \u001b[43m    \u001b[49m\u001b[43mcompression\u001b[49m\u001b[38;5;241;43m=\u001b[39;49m\u001b[38;5;28;43mself\u001b[39;49m\u001b[38;5;241;43m.\u001b[39;49m\u001b[43moptions\u001b[49m\u001b[38;5;241;43m.\u001b[39;49m\u001b[43mget\u001b[49m\u001b[43m(\u001b[49m\u001b[38;5;124;43m\"\u001b[39;49m\u001b[38;5;124;43mcompression\u001b[39;49m\u001b[38;5;124;43m\"\u001b[39;49m\u001b[43m,\u001b[49m\u001b[43m \u001b[49m\u001b[38;5;28;43;01mNone\u001b[39;49;00m\u001b[43m)\u001b[49m\u001b[43m,\u001b[49m\n\u001b[0;32m   1221\u001b[0m \u001b[43m    \u001b[49m\u001b[43mmemory_map\u001b[49m\u001b[38;5;241;43m=\u001b[39;49m\u001b[38;5;28;43mself\u001b[39;49m\u001b[38;5;241;43m.\u001b[39;49m\u001b[43moptions\u001b[49m\u001b[38;5;241;43m.\u001b[39;49m\u001b[43mget\u001b[49m\u001b[43m(\u001b[49m\u001b[38;5;124;43m\"\u001b[39;49m\u001b[38;5;124;43mmemory_map\u001b[39;49m\u001b[38;5;124;43m\"\u001b[39;49m\u001b[43m,\u001b[49m\u001b[43m \u001b[49m\u001b[38;5;28;43;01mFalse\u001b[39;49;00m\u001b[43m)\u001b[49m\u001b[43m,\u001b[49m\n\u001b[0;32m   1222\u001b[0m \u001b[43m    \u001b[49m\u001b[43mis_text\u001b[49m\u001b[38;5;241;43m=\u001b[39;49m\u001b[43mis_text\u001b[49m\u001b[43m,\u001b[49m\n\u001b[0;32m   1223\u001b[0m \u001b[43m    \u001b[49m\u001b[43merrors\u001b[49m\u001b[38;5;241;43m=\u001b[39;49m\u001b[38;5;28;43mself\u001b[39;49m\u001b[38;5;241;43m.\u001b[39;49m\u001b[43moptions\u001b[49m\u001b[38;5;241;43m.\u001b[39;49m\u001b[43mget\u001b[49m\u001b[43m(\u001b[49m\u001b[38;5;124;43m\"\u001b[39;49m\u001b[38;5;124;43mencoding_errors\u001b[39;49m\u001b[38;5;124;43m\"\u001b[39;49m\u001b[43m,\u001b[49m\u001b[43m \u001b[49m\u001b[38;5;124;43m\"\u001b[39;49m\u001b[38;5;124;43mstrict\u001b[39;49m\u001b[38;5;124;43m\"\u001b[39;49m\u001b[43m)\u001b[49m\u001b[43m,\u001b[49m\n\u001b[0;32m   1224\u001b[0m \u001b[43m    \u001b[49m\u001b[43mstorage_options\u001b[49m\u001b[38;5;241;43m=\u001b[39;49m\u001b[38;5;28;43mself\u001b[39;49m\u001b[38;5;241;43m.\u001b[39;49m\u001b[43moptions\u001b[49m\u001b[38;5;241;43m.\u001b[39;49m\u001b[43mget\u001b[49m\u001b[43m(\u001b[49m\u001b[38;5;124;43m\"\u001b[39;49m\u001b[38;5;124;43mstorage_options\u001b[39;49m\u001b[38;5;124;43m\"\u001b[39;49m\u001b[43m,\u001b[49m\u001b[43m \u001b[49m\u001b[38;5;28;43;01mNone\u001b[39;49;00m\u001b[43m)\u001b[49m\u001b[43m,\u001b[49m\n\u001b[0;32m   1225\u001b[0m \u001b[43m\u001b[49m\u001b[43m)\u001b[49m\n\u001b[0;32m   1226\u001b[0m \u001b[38;5;28;01massert\u001b[39;00m \u001b[38;5;28mself\u001b[39m\u001b[38;5;241m.\u001b[39mhandles \u001b[38;5;129;01mis\u001b[39;00m \u001b[38;5;129;01mnot\u001b[39;00m \u001b[38;5;28;01mNone\u001b[39;00m\n\u001b[0;32m   1227\u001b[0m f \u001b[38;5;241m=\u001b[39m \u001b[38;5;28mself\u001b[39m\u001b[38;5;241m.\u001b[39mhandles\u001b[38;5;241m.\u001b[39mhandle\n",
      "File \u001b[1;32m~\\anaconda3\\envs\\neuralnetwork\\lib\\site-packages\\pandas\\io\\common.py:786\u001b[0m, in \u001b[0;36mget_handle\u001b[1;34m(path_or_buf, mode, encoding, compression, memory_map, is_text, errors, storage_options)\u001b[0m\n\u001b[0;32m    781\u001b[0m \u001b[38;5;28;01melif\u001b[39;00m \u001b[38;5;28misinstance\u001b[39m(handle, \u001b[38;5;28mstr\u001b[39m):\n\u001b[0;32m    782\u001b[0m     \u001b[38;5;66;03m# Check whether the filename is to be opened in binary mode.\u001b[39;00m\n\u001b[0;32m    783\u001b[0m     \u001b[38;5;66;03m# Binary mode does not support 'encoding' and 'newline'.\u001b[39;00m\n\u001b[0;32m    784\u001b[0m     \u001b[38;5;28;01mif\u001b[39;00m ioargs\u001b[38;5;241m.\u001b[39mencoding \u001b[38;5;129;01mand\u001b[39;00m \u001b[38;5;124m\"\u001b[39m\u001b[38;5;124mb\u001b[39m\u001b[38;5;124m\"\u001b[39m \u001b[38;5;129;01mnot\u001b[39;00m \u001b[38;5;129;01min\u001b[39;00m ioargs\u001b[38;5;241m.\u001b[39mmode:\n\u001b[0;32m    785\u001b[0m         \u001b[38;5;66;03m# Encoding\u001b[39;00m\n\u001b[1;32m--> 786\u001b[0m         handle \u001b[38;5;241m=\u001b[39m \u001b[38;5;28;43mopen\u001b[39;49m\u001b[43m(\u001b[49m\n\u001b[0;32m    787\u001b[0m \u001b[43m            \u001b[49m\u001b[43mhandle\u001b[49m\u001b[43m,\u001b[49m\n\u001b[0;32m    788\u001b[0m \u001b[43m            \u001b[49m\u001b[43mioargs\u001b[49m\u001b[38;5;241;43m.\u001b[39;49m\u001b[43mmode\u001b[49m\u001b[43m,\u001b[49m\n\u001b[0;32m    789\u001b[0m \u001b[43m            \u001b[49m\u001b[43mencoding\u001b[49m\u001b[38;5;241;43m=\u001b[39;49m\u001b[43mioargs\u001b[49m\u001b[38;5;241;43m.\u001b[39;49m\u001b[43mencoding\u001b[49m\u001b[43m,\u001b[49m\n\u001b[0;32m    790\u001b[0m \u001b[43m            \u001b[49m\u001b[43merrors\u001b[49m\u001b[38;5;241;43m=\u001b[39;49m\u001b[43merrors\u001b[49m\u001b[43m,\u001b[49m\n\u001b[0;32m    791\u001b[0m \u001b[43m            \u001b[49m\u001b[43mnewline\u001b[49m\u001b[38;5;241;43m=\u001b[39;49m\u001b[38;5;124;43m\"\u001b[39;49m\u001b[38;5;124;43m\"\u001b[39;49m\u001b[43m,\u001b[49m\n\u001b[0;32m    792\u001b[0m \u001b[43m        \u001b[49m\u001b[43m)\u001b[49m\n\u001b[0;32m    793\u001b[0m     \u001b[38;5;28;01melse\u001b[39;00m:\n\u001b[0;32m    794\u001b[0m         \u001b[38;5;66;03m# Binary mode\u001b[39;00m\n\u001b[0;32m    795\u001b[0m         handle \u001b[38;5;241m=\u001b[39m \u001b[38;5;28mopen\u001b[39m(handle, ioargs\u001b[38;5;241m.\u001b[39mmode)\n",
      "\u001b[1;31mFileNotFoundError\u001b[0m: [Errno 2] No such file or directory: 'stockdata.csv'"
     ]
    }
   ],
   "source": [
    "import pandas as pd\n",
    "import plotly.express as px\n",
    "import plotly.graph_objects as go\n",
    "import dash\n",
    "from dash import dcc\n",
    "from dash import html\n",
    "from dash.dependencies import Input, Output\n",
    "\n",
    "# Load the data\n",
    "df = pd.read_csv('stockdata.csv')\n",
    "\n",
    "# Data Transformation\n",
    "df['datetime'] = pd.to_datetime(df['Date'])\n",
    "\n",
    "# Create the Plotly Dash application\n",
    "app = dash.Dash(__name__)\n",
    "\n",
    "# Define the layout\n",
    "app.layout = html.Div([\n",
    "    html.H1(\"Interactive Dashboard\"),\n",
    "    \n",
    "    # Add your interactive components here\n",
    "    # For example, a dropdown to select the company\n",
    "    html.Label(\"Company:\"),\n",
    "    dcc.Dropdown(\n",
    "        id='company-dropdown',\n",
    "        options=[{'label': c, 'value': c} for c in df['Company'].unique()],\n",
    "        value='MSFT'\n",
    "    ),\n",
    "    \n",
    "    # Add a graph to show the data based on user selection\n",
    "    dcc.Graph(id='company-graph'),\n",
    "])\n",
    "\n",
    "# Define the callback function to update the graph based on user selection\n",
    "@app.callback(\n",
    "    Output('company-graph', 'figure'),\n",
    "    Input('company-dropdown', 'value')\n",
    ")\n",
    "def update_graph(company):\n",
    "    filtered_df = df[df['Company'] == company]\n",
    "    \n",
    "    # Create the plotly figure\n",
    "    fig = go.Figure()\n",
    "    \n",
    "    # Add the traces to the figure\n",
    "    fig.add_trace(go.Box(x=filtered_df['Open'], name='Open'))\n",
    "    fig.add_trace(go.Box(x=filtered_df['Close'], name='Close'))\n",
    "    fig.add_trace(go.Box(x=filtered_df['High'], name='High'))\n",
    "    fig.add_trace(go.Box(x=filtered_df['Low'], name='Low'))\n",
    "    \n",
    "    # Update the layout of the figure\n",
    "    fig.update_layout(\n",
    "        title=f\"{company} Stock Data\",\n",
    "        xaxis_title=\"Price\",\n",
    "        yaxis_title=\"Company\",\n",
    "    )\n",
    "    \n",
    "    return fig\n",
    "\n",
    "# Run the application\n",
    "if __name__ == '__main__':\n",
    "    app.run()"
   ]
  },
  {
   "cell_type": "code",
   "execution_count": null,
   "id": "ffd1f42b",
   "metadata": {},
   "outputs": [],
   "source": []
  },
  {
   "cell_type": "code",
   "execution_count": null,
   "id": "9a006138",
   "metadata": {},
   "outputs": [],
   "source": []
  }
 ],
 "metadata": {
  "kernelspec": {
   "display_name": "Python 3 (ipykernel)",
   "language": "python",
   "name": "python3"
  },
  "language_info": {
   "codemirror_mode": {
    "name": "ipython",
    "version": 3
   },
   "file_extension": ".py",
   "mimetype": "text/x-python",
   "name": "python",
   "nbconvert_exporter": "python",
   "pygments_lexer": "ipython3",
   "version": "3.9.7"
  }
 },
 "nbformat": 4,
 "nbformat_minor": 5
}
