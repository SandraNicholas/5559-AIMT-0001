{
 "cells": [
  {
   "cell_type": "code",
   "execution_count": 2,
   "metadata": {},
   "outputs": [],
   "source": [
    "import dash\n",
    "from dash import html, dcc\n",
    "import pandas as pd\n",
    "\n",
    "import plotly.express as px"
   ]
  },
  {
   "cell_type": "code",
   "execution_count": null,
   "metadata": {},
   "outputs": [],
   "source": [
    "df = pd.read_csv(\"stockdata.csv\")"
   ]
  },
  {
   "cell_type": "code",
   "execution_count": null,
   "metadata": {},
   "outputs": [],
   "source": [
    "## creating the app\n",
    "app = dash.Dash(__name__)\n",
    "\n",
    "app.layout = html.Div([\n",
    "    html.H1('Time Series Dashboard'),\n",
    "    dcc.Dropdown(\n",
    "        id='company-dropdown',\n",
    "        options=[{'label': i, 'value': i} for i in df['Company'].unique()],\n",
    "        value='IBM'\n",
    "    ),\n",
    "    dcc.Graph(id='open-graph'),\n",
    "    dcc.Graph(id='high-graph'),\n",
    "    dcc.Graph(id='low-graph'),\n",
    "    dcc.Graph(id='close-graph'),\n",
    "    dcc.Graph(id='volume-graph')\n",
    "])"
   ]
  },
  {
   "cell_type": "code",
   "execution_count": null,
   "metadata": {},
   "outputs": [],
   "source": [
    "## creating callback to connect graphs with Dash\n",
    "@app.callback(\n",
    "    [dash.dependencies.Output('open-graph', 'figure'),\n",
    "     dash.dependencies.Output('high-graph', 'figure'),\n",
    "     dash.dependencies.Output('low-graph', 'figure'),\n",
    "     dash.dependencies.Output('close-graph', 'figure'),\n",
    "     dash.dependencies.Output('volume-graph', 'figure')],\n",
    "    [dash.dependencies.Input('company-dropdown', 'value')])\n",
    "\n",
    "def update_graph(company):\n",
    "    company_df = df[df['Company'] == company]\n",
    "\n",
    "    open_fig = px.line(company_df, x='Date', y='Open')\n",
    "    high_fig = px.line(company_df, x='Date', y='High')\n",
    "    low_fig = px.line(company_df, x='Date', y='Low')\n",
    "    close_fig = px.line(company_df, x='Date', y='Close')\n",
    "    volume_fig = px.line(company_df, x='Date', y='Volume')\n",
    "\n",
    "    return open_fig, high_fig, low_fig, close_fig, volume_fig\n"
   ]
  },
  {
   "cell_type": "code",
   "execution_count": null,
   "metadata": {},
   "outputs": [],
   "source": [
    "\n",
    "if __name__ == '__main__':\n",
    "    app.run_server(debug=True)"
   ]
  }
 ],
 "metadata": {
  "kernelspec": {
   "display_name": "TF_gpukernel",
   "language": "python",
   "name": "python3"
  },
  "language_info": {
   "codemirror_mode": {
    "name": "ipython",
    "version": 3
   },
   "file_extension": ".py",
   "mimetype": "text/x-python",
   "name": "python",
   "nbconvert_exporter": "python",
   "pygments_lexer": "ipython3",
   "version": "3.9.16"
  },
  "orig_nbformat": 4
 },
 "nbformat": 4,
 "nbformat_minor": 2
}
